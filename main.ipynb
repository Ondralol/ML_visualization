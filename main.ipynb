{
 "cells": [
  {
   "cell_type": "raw",
   "id": "dd2a5ac5-91bb-4cd8-9b6f-2009f750b890",
   "metadata": {},
   "source": [
    "---\n",
    "title-block-banner: true\n",
    "title-block-style: default\n",
    "title: K-Nearest Neighbours\n",
    "author:\n",
    "  - name: Ondřej Duba\n",
    "    email: ondra.duba17@gmail.com\n",
    "    affiliation:\n",
    "      name: Czech technical university in Prague\n",
    "      url: https://www.cvut.cz/en\n",
    "  - name: Filip Molhanec\n",
    "    email: molhafil@cvut.cz\n",
    "    affiliation:\n",
    "      name: Czech technical university in Prague\n",
    "      url: https://www.cvut.cz/en\n",
    "\n",
    "copyright: \"CC BY 2025\"\n",
    "date: 1/10/2025\n",
    "format:\n",
    "  html:\n",
    "    code-fold: true\n",
    "    #code-tools:\n",
    "      #source: https://github.com/Ondralol/ML_visualization\n",
    "    page-layout: article\n",
    "---"
   ]
  },
  {
   "cell_type": "code",
   "execution_count": 1,
   "id": "ffaeb120-3f6b-4c79-bf91-376020b742e4",
   "metadata": {},
   "outputs": [],
   "source": [
    "#| label: fig-polar\n",
    "#| fig-cap: \"A line plot on a polar axis\"\n",
    "#| echo: false\n",
    "\n",
    "import numpy as np\n",
    "import matplotlib.pyplot as plt\n",
    "import pandas as pd\n",
    "from sklearn.model_selection import train_test_split, ParameterGrid\n",
    "from sklearn import metrics\n",
    "import numpy as np\n",
    "import pandas as pd\n",
    "import matplotlib.pyplot as plt\n",
    "from sklearn.neighbors import KNeighborsClassifier\n",
    "from sklearn.preprocessing import StandardScaler, MinMaxScaler\n",
    "import plotly.express as px\n",
    "import ipywidgets as widgets\n",
    "from ipywidgets import interactive"
   ]
  },
  {
   "cell_type": "markdown",
   "id": "653a87d3-b3d1-4f65-b2cb-afac66a71a5b",
   "metadata": {},
   "source": [
    "## Preprocessing data"
   ]
  },
  {
   "cell_type": "code",
   "execution_count": 2,
   "id": "e8acdcb9-50cc-442b-bd84-f1e6a0bef768",
   "metadata": {},
   "outputs": [],
   "source": [
    "def preprocess_data(df:pd.DataFrame)->pd.DataFrame:\n",
    "    \"\"\" Function, for preprocessing data\n",
    "    \"\"\"\n",
    "    qual_category = pd.api.types.CategoricalDtype(categories=['Hazardous', 'Poor', 'Moderate', 'Good'], ordered=True)\n",
    "    df['Air Quality'] = df['Air Quality'].astype(qual_category)\n",
    "    return df\n",
    "    "
   ]
  },
  {
   "cell_type": "code",
   "execution_count": 3,
   "id": "a73c2218-f9b5-4c24-a2b2-dfbf220cca87",
   "metadata": {},
   "outputs": [],
   "source": [
    "def read_data(path:str='data/d.csv', y:str='Air Quality',**kwargs)->tuple:\n",
    "    \"\"\" Function that read data, and split them into Train, Validation and Test datasets\n",
    "    also separates, target value from others values.\n",
    "    ---\n",
    "    Attributes:\n",
    "    path: [str], path to csv data file\n",
    "    y: [str], name of Target value\n",
    "    kwargs: options, use seed for random_seed\n",
    "    ---\n",
    "    Returns:\n",
    "    tuple with Train,Validation,Test parametrs set, Target values: Train, Test, Validation\n",
    "    \"\"\"\n",
    "    df = pd.read_csv(path)\n",
    "    df = preprocess_data(df)\n",
    "    # Split the training dataset into train and rest (default 60% : 40%)\n",
    "    Xtrain, Xrest, ytrain, yrest = train_test_split(\n",
    "        df.drop(columns=[y]), df[y], test_size=0.4, random_state=kwargs.get('seed',42))\n",
    "    # Split the rest of the data into validation dataset and test dataset (default: 24% : 16%)\n",
    "    Xtest, Xval, ytest, yval = train_test_split(\n",
    "        Xrest, yrest, test_size=0.6, random_state=kwargs.get('seed',42))\n",
    "    print(f'Dataset: {path} | Target value: {y} | Seed: {kwargs.get('seed',42)}')\n",
    "    return Xtrain, Xtest, Xval, ytrain, ytest, yval"
   ]
  },
  {
   "cell_type": "code",
   "execution_count": 4,
   "id": "828938a2-db1b-4aa2-bca3-99637d4fa40d",
   "metadata": {},
   "outputs": [
    {
     "name": "stdout",
     "output_type": "stream",
     "text": [
      "Dataset: data/d.csv | Target value: Air Quality | Seed: 42\n"
     ]
    }
   ],
   "source": [
    "Xtrain, Xtest, Xval, ytrain, ytest, yval = read_data(seed=42)"
   ]
  },
  {
   "cell_type": "code",
   "execution_count": 5,
   "id": "563c816c-ed9a-4acb-9405-e0a7b7536f02",
   "metadata": {},
   "outputs": [],
   "source": [
    "def train_model(*args,**kwargs):\n",
    "    \"\"\"Function, that trains model with specific paraketrs, defined in kwargs.\n",
    "    ---\n",
    "    Attributes:\n",
    "    *args: Xtrain,Ytrain\n",
    "    **kwargs: options for training model\n",
    "    ---\n",
    "    Return: trained model\n",
    "    \"\"\"\n",
    "    X = args[0]\n",
    "    y = args[1]\n",
    "    return KNeighborsClassifier(**kwargs).fit(X,y)"
   ]
  },
  {
   "cell_type": "markdown",
   "id": "cd817444-a0ca-4af0-916e-6ed5a45e50d9",
   "metadata": {},
   "source": [
    "#### Example"
   ]
  },
  {
   "cell_type": "code",
   "execution_count": 6,
   "id": "86228db1-dc26-40b1-b51b-8668d3bbea43",
   "metadata": {},
   "outputs": [
    {
     "data": {
      "text/plain": [
       "0.8308333333333333"
      ]
     },
     "execution_count": 6,
     "metadata": {},
     "output_type": "execute_result"
    }
   ],
   "source": [
    "clf = train_model(Xtrain,ytrain,n_neighbors=5, metric = \"minkowski\", p = 1)\n",
    "metrics.accuracy_score(clf.predict(Xval),yval)"
   ]
  },
  {
   "cell_type": "code",
   "execution_count": 7,
   "id": "2010142a-2dc2-4fb6-ba3a-82260bbafd2f",
   "metadata": {},
   "outputs": [],
   "source": [
    "color_map = {\n",
    "    'Good': 'green',\n",
    "    'Moderate': 'yellow',\n",
    "    'Poor': 'orange',\n",
    "    'Hazardous': 'red'\n",
    "}\n",
    "category_order = [\"Good\", \"Moderate\", \"Poor\", \"Hazardous\"]"
   ]
  },
  {
   "cell_type": "code",
   "execution_count": 8,
   "id": "c82f789d-84ac-4fe1-af91-c66f2813015d",
   "metadata": {},
   "outputs": [],
   "source": [
    "def show_graph(X, y_pred, x_ax='Temperature', y_ax='Humidity'):\n",
    "    df_viz = X.copy()\n",
    "    df_viz['Air Quality'] = y_pred\n",
    "    fig = px.scatter(df_viz, x=x_ax, y=y_ax, color='Air Quality', color_discrete_map=color_map,\n",
    "                     hover_data=df_viz, title='KNN Visualization',category_orders={'Air Quality':category_order})\n",
    "\n",
    "    \n",
    "    fig.show()"
   ]
  },
  {
   "cell_type": "code",
   "execution_count": 9,
   "id": "1b819a17-25a2-40c7-91cc-1cb71d2edaef",
   "metadata": {},
   "outputs": [],
   "source": [
    "n_neighbors_slider = widgets.IntSlider(value=5, min=1, max=20, step=1, description=\"n_neighbors\")\n",
    "p_slider = widgets.IntSlider(value=5, min=1, max=20, step=1, description=\"p_metric\")\n",
    "scale = widgets.RadioButtons(\n",
    "    options=['None', 'Standard', 'MinMax'],\n",
    "    description='Choose normalization:',\n",
    "    disabled=False\n",
    ")"
   ]
  },
  {
   "cell_type": "code",
   "execution_count": 10,
   "id": "879ad279-eb54-4c47-8e96-b993541fbc64",
   "metadata": {},
   "outputs": [
    {
     "data": {
      "application/vnd.jupyter.widget-view+json": {
       "model_id": "02954defbe6d46979a40a77649725c6f",
       "version_major": 2,
       "version_minor": 0
      },
      "text/plain": [
       "interactive(children=(IntSlider(value=5, description='n_neighbors', max=20, min=1), IntSlider(value=5, descrip…"
      ]
     },
     "execution_count": 10,
     "metadata": {},
     "output_type": "execute_result"
    }
   ],
   "source": [
    "def dynamic_graph(**kwargs):\n",
    "    scale = kwargs.pop('scaler')\n",
    "    if scale:\n",
    "        # add scale\n",
    "        pass\n",
    "    clf = train_model(Xtrain,ytrain,**kwargs)\n",
    "    display(f'Accuracy (val): {metrics.accuracy_score(clf.predict(Xval),yval)}')\n",
    "    show_graph(Xval,clf.predict(Xval))\n",
    "\n",
    "\n",
    "interactive_plot = interactive(dynamic_graph, n_neighbors=n_neighbors_slider, p=p_slider,scaler=scale)\n",
    "interactive_plot"
   ]
  }
 ],
 "metadata": {
  "kernelspec": {
   "display_name": "Python 3 (ipykernel)",
   "language": "python",
   "name": "python3"
  },
  "language_info": {
   "codemirror_mode": {
    "name": "ipython",
    "version": 3
   },
   "file_extension": ".py",
   "mimetype": "text/x-python",
   "name": "python",
   "nbconvert_exporter": "python",
   "pygments_lexer": "ipython3",
   "version": "3.12.3"
  }
 },
 "nbformat": 4,
 "nbformat_minor": 5
}
